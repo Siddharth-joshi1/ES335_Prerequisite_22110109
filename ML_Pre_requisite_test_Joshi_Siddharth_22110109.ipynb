{
  "cells": [
    {
      "cell_type": "markdown",
      "metadata": {
        "id": "view-in-github",
        "colab_type": "text"
      },
      "source": [
        "<a href=\"https://colab.research.google.com/github/Siddharth-joshi1/ES335_Prerequisite_22110109/blob/main/ML_Pre_requisite_test_Joshi_Siddharth_22110109.ipynb\" target=\"_parent\"><img src=\"https://colab.research.google.com/assets/colab-badge.svg\" alt=\"Open In Colab\"/></a>"
      ]
    },
    {
      "cell_type": "markdown",
      "metadata": {
        "id": "M66brleR44NU"
      },
      "source": [
        "Q1\n",
        "\n",
        "How many multiplications and additions do you need to perform a matrix multiplication between a (n, k) and (k, m) matrix? Explain.\n"
      ]
    },
    {
      "cell_type": "markdown",
      "metadata": {
        "id": "8mzMTBra3gVJ"
      },
      "source": [
        "A1\n",
        "\n",
        "Every element of row of the matrix(n,k) will be multiplied with corresponding element of the column of matrix(k,m).this results in k multiplication for one element in the final matrix. Now ith row of the first matrix and jth column of the second matrix will result in the (i,j) element of the final matrix. Now in the final matrix there will be total n X m elements from basics of matrix mutiplication. And so to total number of multiplication is K X n X m.  \n",
        "\n",
        "> number of multiplication: k*m*n\n",
        "\n",
        "Similarly, for each element total k-1 addition are required and so as total n x m elements are there so total additions are as follows:\n",
        "\n",
        "\n",
        "> number of additions: (k-1)*m*n\n",
        "\n",
        "\n",
        "\n",
        "\n",
        "\n"
      ]
    },
    {
      "cell_type": "markdown",
      "source": [
        "\n",
        "\n",
        "---\n",
        "\n"
      ],
      "metadata": {
        "id": "KWEpzexFKJxl"
      }
    },
    {
      "cell_type": "markdown",
      "metadata": {
        "id": "0L1IMhmC5Dva"
      },
      "source": [
        "Q2\n",
        "\n",
        "Write Python code to multiply the above two matrices. Solve using list of lists and then use numpy. Compare the timing of both solutions. Which one is faster? Why?"
      ]
    },
    {
      "cell_type": "code",
      "execution_count": 105,
      "metadata": {
        "colab": {
          "base_uri": "https://localhost:8080/"
        },
        "id": "zfV9CnMm5I3L",
        "outputId": "6b59b425-f69a-45b6-8b73-f3575d78b3ff"
      },
      "outputs": [
        {
          "output_type": "stream",
          "name": "stdout",
          "text": [
            "[[29], [73]]\n",
            "total time take is: 0.004647016525268555\n"
          ]
        }
      ],
      "source": [
        "# using lists\n",
        "# Let one matrix be [[1,2,3,4],\n",
        "#                    [5,6,7,8]]\n",
        "# Let one matrix be [[1],\n",
        "#                    [5],\n",
        "#                    [2],\n",
        "#                    [3]]\n",
        "import time\n",
        "start_time = time.time()\n",
        "\n",
        "\n",
        "A=[[1,2,3,4],[5,6,7,8]]\n",
        "B=[[1],[5],[2],[3]]\n",
        "\n",
        "C = []\n",
        "for _ in range(len(A)):\n",
        "    C.append([0] * len(B[0]))\n",
        "\n",
        "\n",
        "i=j=l=0\n",
        "while i<len(A):\n",
        "  while j<len(B[0]):\n",
        "    sum=0\n",
        "    while l<len(A[0]):\n",
        "      sum=sum+A[i][l]*B[l][j]\n",
        "      l=l+1\n",
        "    C[i][j]=sum\n",
        "    l=0\n",
        "    j=j+1\n",
        "  j=0\n",
        "  i=i+1\n",
        "\n",
        "\n",
        "print(C)\n",
        "\n",
        "end_time = time.time()\n",
        "\n",
        "# Calculate the elapsed time\n",
        "elapsed_time = end_time - start_time\n",
        "print(\"total time take is:\",elapsed_time)"
      ]
    },
    {
      "cell_type": "code",
      "execution_count": 106,
      "metadata": {
        "colab": {
          "base_uri": "https://localhost:8080/"
        },
        "id": "gnVmbml8k1Lv",
        "outputId": "01b08104-ddaa-44d0-e61d-09dd87e1285a"
      },
      "outputs": [
        {
          "output_type": "stream",
          "name": "stdout",
          "text": [
            "[[29]\n",
            " [73]]\n",
            "total time take is: 0.002180337905883789\n"
          ]
        }
      ],
      "source": [
        "# Using numpy\n",
        "import time\n",
        "start_time = time.time()\n",
        "import numpy as np\n",
        "A=np.array([[1,2,3,4],[5,6,7,8]])\n",
        "B=np.array([[1],[5],[2],[3]])\n",
        "\n",
        "C = np.zeros((A.shape[0], B.shape[1]))\n",
        "C = np.dot(A, B)\n",
        "print(C)\n",
        "end_time = time.time()\n",
        "\n",
        "elapsed_time = end_time - start_time\n",
        "print(\"total time take is:\",elapsed_time)"
      ]
    },
    {
      "cell_type": "markdown",
      "metadata": {
        "id": "dtSqQaRxnIl5"
      },
      "source": [
        "Generally it is being noted that the time take to run the matrix multiplication using numpy takes lesser time compared to the methad using list of lists.\n",
        "\n",
        "This is because the numpy operations are vectorised and so they apply all operations on the entire matrix at once which helps in doing more and more parallel operations at a time. In list of list the problem is that it goes loop by loop but in numpy it uses the underlying C implementation to do the matrix multiplication.\n"
      ]
    },
    {
      "cell_type": "markdown",
      "source": [
        "\n",
        "\n",
        "---\n",
        "\n"
      ],
      "metadata": {
        "id": "FAxjkL6kKL1l"
      }
    },
    {
      "cell_type": "markdown",
      "metadata": {
        "id": "T_ag4S-SpSjc"
      },
      "source": [
        "Q3\n"
      ]
    },
    {
      "cell_type": "markdown",
      "metadata": {
        "id": "OVnS6WLnpCvk"
      },
      "source": [
        "Finding the highest element in a list requires one pass of the array. Finding the second highest element requires 2 passes of the the array. Using this method, what is the time complexity of finding the median of the array? Can you suggest a better method? Can you implement both these methods in Python and compare against numpy.median routine in terms of time?"
      ]
    },
    {
      "cell_type": "markdown",
      "metadata": {
        "id": "FjgJWjejr1Fz"
      },
      "source": [
        "Answer 3\n"
      ]
    },
    {
      "cell_type": "markdown",
      "metadata": {
        "id": "yxq878x2rQYk"
      },
      "source": [
        "If we use the give method then the time complexity will be O(n^2)\n",
        "To reduce the time complexity we can use merge sort which is O(nlog(n)) and then we can travel to the middle index of the sorted array."
      ]
    },
    {
      "cell_type": "code",
      "execution_count": 107,
      "metadata": {
        "colab": {
          "base_uri": "https://localhost:8080/"
        },
        "id": "d9TtP7Q4rzlz",
        "outputId": "6c5e6cd8-1958-4392-b32c-3633ef730c73"
      },
      "outputs": [
        {
          "output_type": "stream",
          "name": "stdout",
          "text": [
            "[10, 8, 5, 4, 3, 2, 1]\n",
            "4\n",
            "total time take is: 0.0032324790954589844\n"
          ]
        }
      ],
      "source": [
        "import time\n",
        "start_time = time.time()\n",
        "A=[1,2,5,8,4,3,10]\n",
        "B=[]\n",
        "largest=A[0]\n",
        "for i in range(len(A)):\n",
        "  largest=A[0]\n",
        "  for j in range(len(A)):\n",
        "    if A[j]>=largest:\n",
        "      largest=A[j]\n",
        "  A.remove(largest)\n",
        "  B.append(largest)\n",
        "\n",
        "print(B)\n",
        "if len(B)%2==0:\n",
        "  print((B[len(B)//2]+B[((len(B))//2-1)])/2)\n",
        "else:\n",
        "  print(B[(len(B))//2])\n",
        "\n",
        "end_time = time.time()\n",
        "\n",
        "# Calculate the elapsed time\n",
        "elapsed_time = end_time - start_time\n",
        "print(\"total time take is:\",elapsed_time)"
      ]
    },
    {
      "cell_type": "code",
      "execution_count": 108,
      "metadata": {
        "colab": {
          "base_uri": "https://localhost:8080/"
        },
        "id": "teRCetA-ufSV",
        "outputId": "ed7aad44-2a95-43f6-b839-3701633c43f7"
      },
      "outputs": [
        {
          "output_type": "stream",
          "name": "stdout",
          "text": [
            "[10, 8, 5, 4, 3, 2, 1]\n",
            "4\n",
            "total time take is: 0.0021703243255615234\n"
          ]
        }
      ],
      "source": [
        "#here first we will sort the array using mergesort and then we will find the median in that.\n",
        "import time\n",
        "import numpy\n",
        "\n",
        "start_time = time.time()\n",
        "def mergeSort(arr):\n",
        "  if len(arr) > 1:\n",
        "        mid = len(arr)//2\n",
        "\n",
        "        L = arr[:mid]\n",
        "\n",
        "\n",
        "        R = arr[mid:]\n",
        "\n",
        "\n",
        "        mergeSort(L)\n",
        "\n",
        "        mergeSort(R)\n",
        "\n",
        "        i = j = k = 0\n",
        "        while i < len(L) and j < len(R):\n",
        "            if L[i] >= R[j]:\n",
        "                arr[k] = L[i]\n",
        "                i += 1\n",
        "            else:\n",
        "                arr[k] = R[j]\n",
        "                j += 1\n",
        "            k += 1\n",
        "\n",
        "        while i < len(L):\n",
        "            arr[k] = L[i]\n",
        "            i += 1\n",
        "            k += 1\n",
        "\n",
        "        while j < len(R):\n",
        "            arr[k] = R[j]\n",
        "            j += 1\n",
        "            k += 1\n",
        "\n",
        "\n",
        "A=[1,2,5,8,4,3,10]\n",
        "mergeSort(A)\n",
        "print(A)\n",
        "if len(A)%2==0:\n",
        "  print((A[len(A)//2]+A[((len(A))//2-1)])/2)\n",
        "else:\n",
        "  print(A[(len(A))//2])\n",
        "\n",
        "end_time = time.time()\n",
        "\n",
        "elapsed_time = end_time - start_time\n",
        "print(\"total time take is:\",elapsed_time)\n"
      ]
    },
    {
      "cell_type": "code",
      "execution_count": 109,
      "metadata": {
        "colab": {
          "base_uri": "https://localhost:8080/"
        },
        "id": "RsMwo8Aw3_sw",
        "outputId": "10a34a4b-4488-42d1-9aeb-280d7ced67a0"
      },
      "outputs": [
        {
          "output_type": "stream",
          "name": "stdout",
          "text": [
            "4.0\n",
            "total time take is: 0.0018291473388671875\n"
          ]
        }
      ],
      "source": [
        "#here we will use the numpy's median.\n",
        "import time\n",
        "start_time = time.time()\n",
        "import numpy as np\n",
        "\n",
        "A=[1,2,5,8,4,3,10]\n",
        "median=np.median(A)\n",
        "print(median)\n",
        "end_time = time.time()\n",
        "\n",
        "elapsed_time = end_time - start_time\n",
        "print(\"total time take is:\",elapsed_time)"
      ]
    },
    {
      "cell_type": "markdown",
      "source": [
        "As can be seen numpy is the faster than the general method. But it is comparitive to that using the merge sort and then finding the median. This is because the numpy uses the quick sort which is of O(n^2). While the merge sort is O(nlog(n))."
      ],
      "metadata": {
        "id": "QBXHvZvGPkfd"
      }
    },
    {
      "cell_type": "markdown",
      "source": [
        "\n",
        "\n",
        "---\n",
        "\n"
      ],
      "metadata": {
        "id": "85roh5u9Hd42"
      }
    },
    {
      "cell_type": "markdown",
      "metadata": {
        "id": "AHaEexgw9NcR"
      },
      "source": [
        "Q4\n",
        "\n",
        "What is the gradient of the following function with respect to x and y?\n",
        "x^2y+y^3*sinx"
      ]
    },
    {
      "cell_type": "markdown",
      "metadata": {
        "id": "3Ao27e0F8cJE"
      },
      "source": [
        "A4\n",
        "\n",
        "$\\vec{\\nabla}f = (2xy - y^3\\cos(x), x^2 + 3y^2\\sin(x))$\n"
      ]
    },
    {
      "cell_type": "markdown",
      "source": [
        "\n",
        "\n",
        "---\n",
        "\n"
      ],
      "metadata": {
        "id": "63btCEJOHlBs"
      }
    },
    {
      "cell_type": "markdown",
      "metadata": {
        "id": "4QIROgA9sbeu"
      },
      "source": [
        "Q5\n",
        "\n",
        "Use JAX to confirm the gradient evaluated by your method matches the analytical solution corresponding to a few random values of x and y"
      ]
    },
    {
      "cell_type": "code",
      "execution_count": 110,
      "metadata": {
        "colab": {
          "base_uri": "https://localhost:8080/"
        },
        "id": "aro7qEqOsgfI",
        "outputId": "98acc5ad-abb6-4afa-d6e8-391f237f036e"
      },
      "outputs": [
        {
          "output_type": "stream",
          "name": "stdout",
          "text": [
            "JAX Gradients: (Array([0.03115512, 0.577928  , 0.8851999 , 0.24318151, 0.14000964],      dtype=float32), Array([0.00684648, 0.7052901 , 0.6283541 , 0.33511433, 0.83768594],      dtype=float32))\n",
            "Analytical Gradients: [[0.03115512 0.00684648]\n",
            " [0.577928   0.7052901 ]\n",
            " [0.8851999  0.6283541 ]\n",
            " [0.24318151 0.33511433]\n",
            " [0.14000963 0.8376859 ]]\n"
          ]
        }
      ],
      "source": [
        "import jax\n",
        "import jax.numpy as np\n",
        "import numpy as numpy\n",
        "\n",
        "def funct(x, y):\n",
        "    return x**2 * y + y**3 * np.sin(x)\n",
        "\n",
        "def analytical_gradient(x, y):\n",
        "    df_dx = 2 * x * y + y**3 * np.cos(x)\n",
        "    df_dy = x**2 + 3 * y**2 * np.sin(x)\n",
        "    return np.array([df_dx, df_dy])\n",
        "\n",
        "# Use JAX to compute the gradient\n",
        "grad_fn = jax.grad(funct, argnums=(0, 1))\n",
        "\n",
        "# Generate arrays for x and y using NumPy\n",
        "x_vals = numpy.random.rand(5)\n",
        "y_vals = numpy.random.rand(5)\n",
        "\n",
        "# Use vmap to vectorize the gradient computation\n",
        "jax_gradients = jax.vmap(grad_fn)(x_vals, y_vals)\n",
        "\n",
        "analytical_gradients = np.array([analytical_gradient(x, y) for x, y in zip(x_vals, y_vals)])\n",
        "\n",
        "print(\"JAX Gradients:\", jax_gradients)\n",
        "print(\"Analytical Gradients:\", analytical_gradients)\n"
      ]
    },
    {
      "cell_type": "markdown",
      "source": [
        "\n",
        "\n",
        "---\n",
        "\n"
      ],
      "metadata": {
        "id": "ydWv4DlEJfNh"
      }
    },
    {
      "cell_type": "markdown",
      "metadata": {
        "id": "I34mleIm3d-q"
      },
      "source": [
        "Q6\n",
        "\n",
        "Use sympy to confirm that you obtain the same gradient analytically."
      ]
    },
    {
      "cell_type": "code",
      "execution_count": 111,
      "metadata": {
        "colab": {
          "base_uri": "https://localhost:8080/"
        },
        "id": "Hsd_FYdG3gyO",
        "outputId": "5ad20bdb-0809-4397-a075-33b770ec5195"
      },
      "outputs": [
        {
          "output_type": "stream",
          "name": "stdout",
          "text": [
            "Analytical gradient (SymPy): [2*x*y + y**3*cos(x), x**2 + 3*y**2*sin(x)]\n"
          ]
        }
      ],
      "source": [
        "import sympy as sp\n",
        "\n",
        "# Define the symbolic variables\n",
        "x, y = sp.symbols('x y')\n",
        "\n",
        "\n",
        "f = x**2*y + y**3*sp.sin(x)\n",
        "\n",
        "\n",
        "df_dx = sp.diff(f, x)\n",
        "df_dy = sp.diff(f, y)\n",
        "\n",
        "# Display the analytical gradient\n",
        "analytical_gradient_sympy = [df_dx, df_dy]\n",
        "print(\"Analytical gradient (SymPy):\", analytical_gradient_sympy)\n"
      ]
    },
    {
      "cell_type": "markdown",
      "source": [
        "\n",
        "\n",
        "---\n",
        "\n"
      ],
      "metadata": {
        "id": "DNEbkcSRJgl7"
      }
    },
    {
      "cell_type": "markdown",
      "source": [
        "Q7\n",
        "\n",
        "Create a Python nested dictionary to represent hierarchical information. We want to store record of students and their marks. Something like:\n",
        "\n",
        "2022\n",
        "Branch 1\n",
        "Roll Number: 1, Name: N, Marks:\n",
        "Maths: 100, English: 70 …\n",
        "Branch 2\n",
        "2023\n",
        "Branch 1\n",
        "Branch 2\n",
        "2024\n",
        "Branch 1\n",
        "Branch 2\n",
        "2025\n",
        "Branch 1\n",
        "Branch 2\n"
      ],
      "metadata": {
        "id": "P2fPZ-_E2O18"
      }
    },
    {
      "cell_type": "code",
      "source": [
        "Dict = { '2022': [{'Branch 1':{'roll_number':1,'name':'N','marks':{'Maths':'100','English':70}}}, 'Branch 2'],\n",
        "        '2023':['Branch1','Branch2'],'2024':['Branch1','Branch2'],'2025':['Branch1','Branch2']}\n",
        "import pprint\n",
        "pprint.PrettyPrinter().pprint(Dict)\n",
        "\n",
        "\n",
        "#Here I have taken only the provided data and not added any thing from my side. this means that I have not added any marks or other divisions in the dictionary\n"
      ],
      "metadata": {
        "colab": {
          "base_uri": "https://localhost:8080/"
        },
        "id": "rv5rpBIgfkJ9",
        "outputId": "5324bd21-5562-43b6-b4b0-bd06bdda92f8"
      },
      "execution_count": 112,
      "outputs": [
        {
          "output_type": "stream",
          "name": "stdout",
          "text": [
            "{'2022': [{'Branch 1': {'marks': {'English': 70, 'Maths': '100'},\n",
            "                        'name': 'N',\n",
            "                        'roll_number': 1}},\n",
            "          'Branch 2'],\n",
            " '2023': ['Branch1', 'Branch2'],\n",
            " '2024': ['Branch1', 'Branch2'],\n",
            " '2025': ['Branch1', 'Branch2']}\n"
          ]
        }
      ]
    },
    {
      "cell_type": "markdown",
      "source": [
        "\n",
        "\n",
        "---\n",
        "\n"
      ],
      "metadata": {
        "id": "Tf1Bv5bxJiPY"
      }
    },
    {
      "cell_type": "markdown",
      "source": [
        "Q8\n",
        "\n",
        "Store the same information using Python classes. We have an overall database which is a list of year objects. Each year contains a list of branches. Each branch contains a list of students. Each student has some properties like name, roll number and has marks in some subjects."
      ],
      "metadata": {
        "id": "so0ktHQG2YNG"
      }
    },
    {
      "cell_type": "code",
      "execution_count": 113,
      "metadata": {
        "id": "6rW7pk1k3zWj",
        "colab": {
          "base_uri": "https://localhost:8080/"
        },
        "outputId": "30a231a9-e477-4895-bf1f-51a17dc154cf"
      },
      "outputs": [
        {
          "output_type": "stream",
          "name": "stdout",
          "text": [
            "[Year(year=2022, branches=[Branch(name='Branch 1', students=[Student(roll_number=1, name='N', marks={'Maths': 100, 'English': 70})]), Branch(name='Branch 2', students=[])]),\n",
            " Year(year=2023, branches=['Branch 1', 'Branch 2']),\n",
            " Year(year=2024, branches=['Branch 1', 'Branch 2']),\n",
            " Year(year=2025, branches=['Branch 1', 'Branch 2'])]\n"
          ]
        }
      ],
      "source": [
        "class Student:\n",
        "    def __init__(self, roll_number, name, marks):\n",
        "        self.roll_number = roll_number\n",
        "        self.name = name\n",
        "        self.marks = marks\n",
        "\n",
        "    def __repr__(self):\n",
        "        return f\"Student(roll_number={self.roll_number}, name='{self.name}', marks={self.marks})\"\n",
        "\n",
        "\n",
        "class Branch:\n",
        "    def __init__(self, name, students):\n",
        "        self.name = name\n",
        "        self.students = students\n",
        "\n",
        "    def __repr__(self):\n",
        "        return f\"Branch(name='{self.name}', students={self.students})\"\n",
        "\n",
        "\n",
        "class Year:\n",
        "    def __init__(self, year, branches):\n",
        "        self.year = year\n",
        "        self.branches = branches\n",
        "\n",
        "    def __repr__(self):\n",
        "        return f\"Year(year={self.year}, branches={self.branches})\"\n",
        "\n",
        "\n",
        "# Creating instances based on the given data\n",
        "student1 = Student(1, 'N', {'Maths': 100, 'English': 70})\n",
        "branch1 = Branch('Branch 1', [student1])\n",
        "branch2 = Branch('Branch 2', [])\n",
        "\n",
        "year_2022 = Year('2022', [branch1, branch2])\n",
        "year_2023 = Year('2023', ['Branch 1', 'Branch 2'])\n",
        "year_2024 = Year('2024', ['Branch 1', 'Branch 2'])\n",
        "year_2025 = Year('2025', ['Branch 1', 'Branch 2'])\n",
        "\n",
        "# Creating the overall database as a list of year objects\n",
        "database = [year_2022, year_2023, year_2024, year_2025]\n",
        "\n",
        "# Printing the information\n",
        "import pprint\n",
        "pprint.PrettyPrinter().pprint(database)\n"
      ]
    },
    {
      "cell_type": "markdown",
      "source": [
        "\n",
        "\n",
        "---\n",
        "\n"
      ],
      "metadata": {
        "id": "asHH0ep_JaZV"
      }
    },
    {
      "cell_type": "markdown",
      "metadata": {
        "id": "u8rYHHhz31As"
      },
      "source": [
        "Q9\n",
        "\n",
        "Using matplotlib plot the following functions on the domain: x = 0.5 to 100.0 in steps of 0.5.\n",
        "y=x\n",
        "\n",
        "y=x^2\n",
        "\n",
        "y=x^3/100\n",
        "\n",
        "y=sin(x)\n",
        "\n",
        "y=sin(x)/x\n",
        "\n",
        "y=log(x)\n",
        "\n",
        "y=e^x\n",
        "\n"
      ]
    },
    {
      "cell_type": "code",
      "execution_count": 114,
      "metadata": {
        "colab": {
          "base_uri": "https://localhost:8080/",
          "height": 487
        },
        "id": "v9sb2NCv4MK0",
        "outputId": "c1aff692-2e1f-4ff9-9516-3648edd826a6"
      },
      "outputs": [
        {
          "output_type": "display_data",
          "data": {
            "text/plain": [
              "<Figure size 640x480 with 7 Axes>"
            ],
            "image/png": "[encoded data removed]"
          },
          "metadata": {}
        }
      ],
      "source": [
        "import numpy as np\n",
        "import matplotlib.pyplot as plt\n",
        "\n",
        "\n",
        "x = np.arange(0.5, 100.5, 0.5)\n",
        "\n",
        "\n",
        "y1 = x\n",
        "y2 = x**2\n",
        "y3 = x**3 / 100\n",
        "y4 = np.sin(x)\n",
        "y5 = np.sin(x) / x\n",
        "y6 = np.log(x)\n",
        "y7 = np.exp(x)\n",
        "\n",
        "\n",
        "plt.figure()\n",
        "\n",
        "plt.subplot(3, 3, 1)\n",
        "plt.plot(x, y1)\n",
        "plt.title('y = x')\n",
        "\n",
        "plt.subplot(3, 3, 2)\n",
        "plt.plot(x, y2)\n",
        "plt.title('y = x^2')\n",
        "\n",
        "plt.subplot(3, 3, 3)\n",
        "plt.plot(x, y3)\n",
        "plt.title('y = x^3/100')\n",
        "\n",
        "plt.subplot(3, 3, 4)\n",
        "plt.plot(x, y4)\n",
        "plt.title('y = sin(x)')\n",
        "\n",
        "plt.subplot(3, 3, 5)\n",
        "plt.plot(x, y5)\n",
        "plt.title('y = sin(x)/x')\n",
        "\n",
        "plt.subplot(3, 3, 6)\n",
        "plt.plot(x, y6)\n",
        "plt.title('y = log(x)')\n",
        "\n",
        "plt.subplot(3, 3, 7)\n",
        "plt.plot(x, y7)\n",
        "plt.title('y = e^x')\n",
        "\n",
        "plt.tight_layout()\n",
        "plt.show()\n"
      ]
    },
    {
      "cell_type": "markdown",
      "source": [
        "\n",
        "\n",
        "---\n",
        "\n"
      ],
      "metadata": {
        "id": "KghLP-_OJWE9"
      }
    },
    {
      "cell_type": "markdown",
      "metadata": {
        "id": "9FbJ7gY86ClJ"
      },
      "source": [
        "Q10\n",
        "\n",
        "Using numpy generate a matrix of size 20X5 containing random numbers drawn uniformly from the range of 1 to 2. Using Pandas create a dataframe out of this matrix. Name the columns of the dataframe as “a”, “b”, “c”, “d”, “e”. Find the column with the highest standard deviation. Find the row with the lowest mean."
      ]
    },
    {
      "cell_type": "code",
      "execution_count": 115,
      "metadata": {
        "colab": {
          "base_uri": "https://localhost:8080/"
        },
        "id": "3P7cF11o6K8z",
        "outputId": "de710d10-8bc3-4768-fbb1-3cc25f4727bf"
      },
      "outputs": [
        {
          "output_type": "stream",
          "name": "stdout",
          "text": [
            "DataFrame:\n",
            "           a         b         c         d         e\n",
            "0   1.374540  1.950714  1.731994  1.598658  1.156019\n",
            "1   1.155995  1.058084  1.866176  1.601115  1.708073\n",
            "2   1.020584  1.969910  1.832443  1.212339  1.181825\n",
            "3   1.183405  1.304242  1.524756  1.431945  1.291229\n",
            "4   1.611853  1.139494  1.292145  1.366362  1.456070\n",
            "5   1.785176  1.199674  1.514234  1.592415  1.046450\n",
            "6   1.607545  1.170524  1.065052  1.948886  1.965632\n",
            "7   1.808397  1.304614  1.097672  1.684233  1.440152\n",
            "8   1.122038  1.495177  1.034389  1.909320  1.258780\n",
            "9   1.662522  1.311711  1.520068  1.546710  1.184854\n",
            "10  1.969585  1.775133  1.939499  1.894827  1.597900\n",
            "11  1.921874  1.088493  1.195983  1.045227  1.325330\n",
            "12  1.388677  1.271349  1.828738  1.356753  1.280935\n",
            "13  1.542696  1.140924  1.802197  1.074551  1.986887\n",
            "14  1.772245  1.198716  1.005522  1.815461  1.706857\n",
            "15  1.729007  1.771270  1.074045  1.358466  1.115869\n",
            "16  1.863103  1.623298  1.330898  1.063558  1.310982\n",
            "17  1.325183  1.729606  1.637557  1.887213  1.472215\n",
            "18  1.119594  1.713245  1.760785  1.561277  1.770967\n",
            "19  1.493796  1.522733  1.427541  1.025419  1.107891\n",
            "\n",
            "Column with the highest standard deviation: c\n",
            "Row with the lowest mean: 11\n"
          ]
        }
      ],
      "source": [
        "import numpy as np\n",
        "import pandas as pd\n",
        "\n",
        "\n",
        "np.random.seed(42)\n",
        "matrix = np.random.uniform(1, 2, size=(20, 5))\n",
        "\n",
        "\n",
        "columns = ['a', 'b', 'c', 'd', 'e']\n",
        "df = pd.DataFrame(matrix, columns=columns)\n",
        "\n",
        "max_std_column = df.std().idxmax()\n",
        "\n",
        "\n",
        "min_mean_row = df.mean(axis=1).idxmin()\n",
        "\n",
        "print(\"DataFrame:\")\n",
        "print(df)\n",
        "\n",
        "print(\"\\nColumn with the highest standard deviation:\", max_std_column)\n",
        "print(\"Row with the lowest mean:\", min_mean_row)\n"
      ]
    },
    {
      "cell_type": "markdown",
      "source": [
        "\n",
        "\n",
        "---\n",
        "\n"
      ],
      "metadata": {
        "id": "eHnfW2_LJS_0"
      }
    },
    {
      "cell_type": "markdown",
      "metadata": {
        "id": "i2Ufz-66_CDq"
      },
      "source": [
        "Q11\n",
        "\n",
        "Add a new column to the dataframe called “f” which is the sum of the columns “a”, “b”, “c”, “d”, “e”. Create another column called “g”. The value in the column “g” should be “LT8” if the value in the column “f” is less than 8 and “GT8” otherwise. Find the number of rows in the dataframe where the value in the column “g” is “LT8”. Find the standard deviation of the column “f” for the rows where the value in the column “g” is “LT8” and “GT8” respectively."
      ]
    },
    {
      "cell_type": "code",
      "execution_count": 116,
      "metadata": {
        "colab": {
          "base_uri": "https://localhost:8080/"
        },
        "id": "QJsBoK8e_VJh",
        "outputId": "29e3c02a-de10-462f-86cc-8656214ac518"
      },
      "outputs": [
        {
          "output_type": "stream",
          "name": "stdout",
          "text": [
            "DataFrame:\n",
            "           a         b         c         d         e         f    g\n",
            "0   1.374540  1.950714  1.731994  1.598658  1.156019  7.811925  LT8\n",
            "1   1.155995  1.058084  1.866176  1.601115  1.708073  7.389442  LT8\n",
            "2   1.020584  1.969910  1.832443  1.212339  1.181825  7.217101  LT8\n",
            "3   1.183405  1.304242  1.524756  1.431945  1.291229  6.735577  LT8\n",
            "4   1.611853  1.139494  1.292145  1.366362  1.456070  6.865923  LT8\n",
            "5   1.785176  1.199674  1.514234  1.592415  1.046450  7.137949  LT8\n",
            "6   1.607545  1.170524  1.065052  1.948886  1.965632  7.757638  LT8\n",
            "7   1.808397  1.304614  1.097672  1.684233  1.440152  7.335069  LT8\n",
            "8   1.122038  1.495177  1.034389  1.909320  1.258780  6.819704  LT8\n",
            "9   1.662522  1.311711  1.520068  1.546710  1.184854  7.225866  LT8\n",
            "10  1.969585  1.775133  1.939499  1.894827  1.597900  9.176944  GT8\n",
            "11  1.921874  1.088493  1.195983  1.045227  1.325330  6.576907  LT8\n",
            "12  1.388677  1.271349  1.828738  1.356753  1.280935  7.126452  LT8\n",
            "13  1.542696  1.140924  1.802197  1.074551  1.986887  7.547255  LT8\n",
            "14  1.772245  1.198716  1.005522  1.815461  1.706857  7.498801  LT8\n",
            "15  1.729007  1.771270  1.074045  1.358466  1.115869  7.048657  LT8\n",
            "16  1.863103  1.623298  1.330898  1.063558  1.310982  7.191840  LT8\n",
            "17  1.325183  1.729606  1.637557  1.887213  1.472215  8.051775  GT8\n",
            "18  1.119594  1.713245  1.760785  1.561277  1.770967  7.925868  LT8\n",
            "19  1.493796  1.522733  1.427541  1.025419  1.107891  6.577380  LT8\n",
            "\n",
            "Number of rows where the value in column 'g' is 'LT8': 18\n",
            "Standard deviation of column 'f' for 'LT8': 0.4025886500663061\n",
            "Standard deviation of column 'f' for 'GT8': 0.7956146881961926\n"
          ]
        }
      ],
      "source": [
        "import numpy as np\n",
        "import pandas as pd\n",
        "\n",
        "\n",
        "np.random.seed(42)\n",
        "matrix = np.random.uniform(1, 2, size=(20, 5))\n",
        "\n",
        "columns = ['a', 'b', 'c', 'd', 'e']\n",
        "df = pd.DataFrame(matrix, columns=columns)\n",
        "\n",
        "\n",
        "df['f'] = df[['a', 'b', 'c', 'd', 'e']].sum(axis=1)\n",
        "\n",
        "df['g'] = np.where(df['f'] < 8, 'LT8', 'GT8')\n",
        "\n",
        "num_rows_LT8 = len(df[df['g'] == 'LT8'])\n",
        "\n",
        "std_LT8 = df.loc[df['g'] == 'LT8', 'f'].std()\n",
        "std_GT8 = df.loc[df['g'] == 'GT8', 'f'].std()\n",
        "\n",
        "\n",
        "print(\"DataFrame:\")\n",
        "print(df)\n",
        "\n",
        "\n",
        "print(\"\\nNumber of rows where the value in column 'g' is 'LT8':\", num_rows_LT8)\n",
        "print(\"Standard deviation of column 'f' for 'LT8':\", std_LT8)\n",
        "print(\"Standard deviation of column 'f' for 'GT8':\", std_GT8)\n"
      ]
    },
    {
      "cell_type": "markdown",
      "source": [
        "\n",
        "\n",
        "---\n",
        "\n"
      ],
      "metadata": {
        "id": "O0A71lZAJQTI"
      }
    },
    {
      "cell_type": "markdown",
      "source": [
        "Q12\n",
        "\n",
        "Write a small piece of code to explain broadcasting in numpy\n"
      ],
      "metadata": {
        "id": "vN67r3-EfmfN"
      }
    },
    {
      "cell_type": "code",
      "source": [
        "import numpy as np\n",
        "\n",
        "\n",
        "matrix = np.array([[1, 2, 3],\n",
        "                   [4, 5, 6],\n",
        "                   [7, 8, 9]])\n",
        "\n",
        "\n",
        "row_vector = np.array([10, 20, 30])\n",
        "\n",
        "\n",
        "result = matrix * row_vector\n",
        "\n",
        "\n",
        "print(\"Original Matrix:\")\n",
        "print(matrix)\n",
        "\n",
        "print(\"\\nRow Vector:\")\n",
        "print(row_vector)\n",
        "\n",
        "\n",
        "print(\"\\nResult after Broadcasting:\")\n",
        "print(result)\n"
      ],
      "metadata": {
        "colab": {
          "base_uri": "https://localhost:8080/"
        },
        "id": "KEy5DG1qfoUP",
        "outputId": "973d3be1-d3c5-4a8c-91d0-0f71c952c54e"
      },
      "execution_count": 117,
      "outputs": [
        {
          "output_type": "stream",
          "name": "stdout",
          "text": [
            "Original Matrix:\n",
            "[[1 2 3]\n",
            " [4 5 6]\n",
            " [7 8 9]]\n",
            "\n",
            "Row Vector:\n",
            "[10 20 30]\n",
            "\n",
            "Result after Broadcasting:\n",
            "[[ 10  40  90]\n",
            " [ 40 100 180]\n",
            " [ 70 160 270]]\n"
          ]
        }
      ]
    },
    {
      "cell_type": "markdown",
      "source": [
        "As can be seen that numpy is somewhat strecting the vector to the dimensions of 3*3 and then multiplying it to get the result. This is called broadcasting in numpy. This helps in several problems. Let's say youwant to subtract the mean from the matrix then you don't need to subtract it from all the rows instead it directly does this for you."
      ],
      "metadata": {
        "id": "uXTa2WevIRDO"
      }
    },
    {
      "cell_type": "markdown",
      "source": [
        "\n",
        "\n",
        "---\n",
        "\n"
      ],
      "metadata": {
        "id": "UJSx-9SbJNfr"
      }
    },
    {
      "cell_type": "markdown",
      "source": [
        "Q13\n",
        "\n",
        "Write a function to compute the argmin of a numpy array. The function should take a numpy array as input and return the index of the minimum element. You can use the np.argmin function to verify your solution."
      ],
      "metadata": {
        "id": "lNC0vERVxtTV"
      }
    },
    {
      "cell_type": "code",
      "source": [
        "import numpy as np\n",
        "arr=[1,2,3,4,-1,6,7,8,4,3,2,2,0]\n",
        "\n",
        "def argmin(arr1):\n",
        "  index=0\n",
        "  for i in range(len(arr1)):\n",
        "    if arr1[i]<arr1[index]:\n",
        "      index=i\n",
        "  return index\n",
        "print(argmin(arr))\n",
        "\n",
        "print(np.argmin(arr))\n"
      ],
      "metadata": {
        "colab": {
          "base_uri": "https://localhost:8080/"
        },
        "id": "EmwpohpXxtlL",
        "outputId": "4530fe82-a925-49e6-cd65-4e063fdda9db"
      },
      "execution_count": 118,
      "outputs": [
        {
          "output_type": "stream",
          "name": "stdout",
          "text": [
            "4\n",
            "4\n"
          ]
        }
      ]
    }
  ],
  "metadata": {
    "colab": {
      "provenance": [],
      "authorship_tag": "ABX9TyNj4htfKJ+gzwhPq/2dEimI",
      "include_colab_link": true
    },
    "kernelspec": {
      "display_name": "Python 3",
      "name": "python3"
    },
    "language_info": {
      "name": "python"
    }
  },
  "nbformat": 4,
  "nbformat_minor": 0
}